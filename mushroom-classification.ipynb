{
 "cells": [
  {
   "cell_type": "code",
   "execution_count": 1,
   "id": "d7ac1ab2",
   "metadata": {
    "_cell_guid": "b1076dfc-b9ad-4769-8c92-a6c4dae69d19",
    "_uuid": "8f2839f25d086af736a60e9eeb907d3b93b6e0e5",
    "execution": {
     "iopub.execute_input": "2024-03-26T13:53:12.170428Z",
     "iopub.status.busy": "2024-03-26T13:53:12.170081Z",
     "iopub.status.idle": "2024-03-26T13:53:14.721096Z",
     "shell.execute_reply": "2024-03-26T13:53:14.719663Z"
    },
    "papermill": {
     "duration": 2.559867,
     "end_time": "2024-03-26T13:53:14.723489",
     "exception": false,
     "start_time": "2024-03-26T13:53:12.163622",
     "status": "completed"
    },
    "tags": []
   },
   "outputs": [
    {
     "name": "stdout",
     "output_type": "stream",
     "text": [
      "/kaggle/input/mushroom-classification-edible-or-poisonous/mushroom.csv\n"
     ]
    }
   ],
   "source": [
    "from sklearn.svm import SVC\n",
    "from sklearn.preprocessing import StandardScaler\n",
    "from sklearn.pipeline import Pipeline\n",
    "from sklearn.impute import SimpleImputer\n",
    "from sklearn.preprocessing import OneHotEncoder\n",
    "from sklearn.compose import ColumnTransformer\n",
    "from sklearn.model_selection import train_test_split\n",
    "from sklearn.ensemble import RandomForestRegressor\n",
    "from sklearn.metrics import mean_absolute_error\n",
    "import numpy as np \n",
    "import pandas as pd \n",
    "import os\n",
    "for dirname, _, filenames in os.walk('/kaggle/input'):\n",
    "    for filename in filenames:\n",
    "        print(os.path.join(dirname, filename))\n"
   ]
  },
  {
   "cell_type": "code",
   "execution_count": 2,
   "id": "235ef1d9",
   "metadata": {
    "execution": {
     "iopub.execute_input": "2024-03-26T13:53:14.733567Z",
     "iopub.status.busy": "2024-03-26T13:53:14.733124Z",
     "iopub.status.idle": "2024-03-26T13:53:14.976144Z",
     "shell.execute_reply": "2024-03-26T13:53:14.975254Z"
    },
    "papermill": {
     "duration": 0.250801,
     "end_time": "2024-03-26T13:53:14.978733",
     "exception": false,
     "start_time": "2024-03-26T13:53:14.727932",
     "status": "completed"
    },
    "tags": []
   },
   "outputs": [],
   "source": [
    "mushroom_raw_df = pd.read_csv(\"/kaggle/input/mushroom-classification-edible-or-poisonous/mushroom.csv\")\n",
    "mushroom_raw_df = mushroom_raw_df.rename(columns = {'class': 'edible'})"
   ]
  },
  {
   "cell_type": "code",
   "execution_count": 3,
   "id": "f1ebd59e",
   "metadata": {
    "execution": {
     "iopub.execute_input": "2024-03-26T13:53:14.988468Z",
     "iopub.status.busy": "2024-03-26T13:53:14.988121Z",
     "iopub.status.idle": "2024-03-26T13:53:15.000828Z",
     "shell.execute_reply": "2024-03-26T13:53:15.000119Z"
    },
    "papermill": {
     "duration": 0.019831,
     "end_time": "2024-03-26T13:53:15.002882",
     "exception": false,
     "start_time": "2024-03-26T13:53:14.983051",
     "status": "completed"
    },
    "tags": []
   },
   "outputs": [],
   "source": [
    "edible_codes = {'e' : 0, 'p':1}\n",
    "mushroom_raw_df['edible_codes'] = mushroom_raw_df.edible.map(edible_codes)"
   ]
  },
  {
   "cell_type": "code",
   "execution_count": 4,
   "id": "f910b745",
   "metadata": {
    "execution": {
     "iopub.execute_input": "2024-03-26T13:53:15.012512Z",
     "iopub.status.busy": "2024-03-26T13:53:15.011993Z",
     "iopub.status.idle": "2024-03-26T13:53:15.030033Z",
     "shell.execute_reply": "2024-03-26T13:53:15.029193Z"
    },
    "papermill": {
     "duration": 0.025518,
     "end_time": "2024-03-26T13:53:15.032411",
     "exception": false,
     "start_time": "2024-03-26T13:53:15.006893",
     "status": "completed"
    },
    "tags": []
   },
   "outputs": [],
   "source": [
    "y = mushroom_raw_df.edible_codes\n",
    "X = mushroom_raw_df.drop(['edible', 'edible_codes'], axis = 1) "
   ]
  },
  {
   "cell_type": "code",
   "execution_count": 5,
   "id": "7dc47911",
   "metadata": {
    "execution": {
     "iopub.execute_input": "2024-03-26T13:53:15.042119Z",
     "iopub.status.busy": "2024-03-26T13:53:15.041783Z",
     "iopub.status.idle": "2024-03-26T13:53:15.095924Z",
     "shell.execute_reply": "2024-03-26T13:53:15.095059Z"
    },
    "papermill": {
     "duration": 0.061566,
     "end_time": "2024-03-26T13:53:15.098328",
     "exception": false,
     "start_time": "2024-03-26T13:53:15.036762",
     "status": "completed"
    },
    "tags": []
   },
   "outputs": [],
   "source": [
    "X_train_full, X_valid_full, y_train, y_valid = train_test_split(X, y, train_size=0.8, test_size=0.2,\n",
    "                                                                random_state=0)"
   ]
  },
  {
   "cell_type": "code",
   "execution_count": 6,
   "id": "26b6c93e",
   "metadata": {
    "execution": {
     "iopub.execute_input": "2024-03-26T13:53:15.107969Z",
     "iopub.status.busy": "2024-03-26T13:53:15.107644Z",
     "iopub.status.idle": "2024-03-26T13:53:15.114050Z",
     "shell.execute_reply": "2024-03-26T13:53:15.113068Z"
    },
    "papermill": {
     "duration": 0.01359,
     "end_time": "2024-03-26T13:53:15.116188",
     "exception": false,
     "start_time": "2024-03-26T13:53:15.102598",
     "status": "completed"
    },
    "tags": []
   },
   "outputs": [],
   "source": [
    "categorical_cols = [cname for cname in X_train_full.columns if X_train_full[cname].dtype in ['object']]\n",
    "numerical_cols = [cname for cname in X_train_full.columns if X_train_full[cname].dtype in ['int64', 'float64']]"
   ]
  },
  {
   "cell_type": "code",
   "execution_count": 7,
   "id": "32866395",
   "metadata": {
    "execution": {
     "iopub.execute_input": "2024-03-26T13:53:15.125692Z",
     "iopub.status.busy": "2024-03-26T13:53:15.125340Z",
     "iopub.status.idle": "2024-03-26T13:53:15.159821Z",
     "shell.execute_reply": "2024-03-26T13:53:15.158908Z"
    },
    "papermill": {
     "duration": 0.042173,
     "end_time": "2024-03-26T13:53:15.162432",
     "exception": false,
     "start_time": "2024-03-26T13:53:15.120259",
     "status": "completed"
    },
    "tags": []
   },
   "outputs": [],
   "source": [
    "# Keep selected columns only\n",
    "my_cols = categorical_cols + numerical_cols\n",
    "X_train = X_train_full[my_cols].copy()\n",
    "X_valid = X_valid_full[my_cols].copy()"
   ]
  },
  {
   "cell_type": "code",
   "execution_count": 8,
   "id": "25b78e70",
   "metadata": {
    "execution": {
     "iopub.execute_input": "2024-03-26T13:53:15.172460Z",
     "iopub.status.busy": "2024-03-26T13:53:15.172133Z",
     "iopub.status.idle": "2024-03-26T13:53:15.177878Z",
     "shell.execute_reply": "2024-03-26T13:53:15.176948Z"
    },
    "papermill": {
     "duration": 0.01333,
     "end_time": "2024-03-26T13:53:15.180186",
     "exception": false,
     "start_time": "2024-03-26T13:53:15.166856",
     "status": "completed"
    },
    "tags": []
   },
   "outputs": [],
   "source": [
    "# Preprocessing for numerical data\n",
    "numerical_transformer = SimpleImputer(strategy='constant')\n",
    "\n",
    "# Preprocessing for categorical data\n",
    "categorical_transformer = Pipeline(steps=[\n",
    "    ('imputer', SimpleImputer(strategy='most_frequent')),\n",
    "    ('onehot', OneHotEncoder(handle_unknown='ignore'))\n",
    "])\n",
    "\n",
    "# Bundle preprocessing for numerical and categorical data\n",
    "preprocessor = ColumnTransformer(\n",
    "    transformers=[\n",
    "        ('num', numerical_transformer, numerical_cols),\n",
    "        ('cat', categorical_transformer, categorical_cols)\n",
    "    ])"
   ]
  },
  {
   "cell_type": "code",
   "execution_count": 9,
   "id": "14393426",
   "metadata": {
    "execution": {
     "iopub.execute_input": "2024-03-26T13:53:15.189279Z",
     "iopub.status.busy": "2024-03-26T13:53:15.188969Z",
     "iopub.status.idle": "2024-03-26T13:53:15.193664Z",
     "shell.execute_reply": "2024-03-26T13:53:15.192892Z"
    },
    "papermill": {
     "duration": 0.01192,
     "end_time": "2024-03-26T13:53:15.195830",
     "exception": false,
     "start_time": "2024-03-26T13:53:15.183910",
     "status": "completed"
    },
    "tags": []
   },
   "outputs": [],
   "source": [
    "model = RandomForestRegressor(n_estimators=100, random_state=0)"
   ]
  },
  {
   "cell_type": "code",
   "execution_count": 10,
   "id": "bdb00c18",
   "metadata": {
    "execution": {
     "iopub.execute_input": "2024-03-26T13:53:15.205199Z",
     "iopub.status.busy": "2024-03-26T13:53:15.204755Z",
     "iopub.status.idle": "2024-03-26T13:54:32.818978Z",
     "shell.execute_reply": "2024-03-26T13:54:32.817828Z"
    },
    "papermill": {
     "duration": 77.62435,
     "end_time": "2024-03-26T13:54:32.824397",
     "exception": false,
     "start_time": "2024-03-26T13:53:15.200047",
     "status": "completed"
    },
    "tags": []
   },
   "outputs": [
    {
     "name": "stdout",
     "output_type": "stream",
     "text": [
      "MAE: 0.0020042574095300476\n"
     ]
    }
   ],
   "source": [
    "# Bundle preprocessing and modeling code in a pipeline\n",
    "my_pipeline = Pipeline(steps=[('preprocessor', preprocessor),\n",
    "                              ('model', model)\n",
    "                             ])\n",
    "\n",
    "# Preprocessing of training data, fit model \n",
    "my_pipeline.fit(X_train, y_train)\n",
    "\n",
    "# Preprocessing of validation data, get predictions\n",
    "preds = my_pipeline.predict(X_valid)\n",
    "\n",
    "score = mean_absolute_error(y_valid, preds)\n",
    "print('MAE:', score)"
   ]
  }
 ],
 "metadata": {
  "kaggle": {
   "accelerator": "none",
   "dataSources": [
    {
     "datasetId": 4563403,
     "sourceId": 7794960,
     "sourceType": "datasetVersion"
    }
   ],
   "dockerImageVersionId": 30673,
   "isGpuEnabled": false,
   "isInternetEnabled": true,
   "language": "python",
   "sourceType": "notebook"
  },
  "kernelspec": {
   "display_name": "Python 3",
   "language": "python",
   "name": "python3"
  },
  "language_info": {
   "codemirror_mode": {
    "name": "ipython",
    "version": 3
   },
   "file_extension": ".py",
   "mimetype": "text/x-python",
   "name": "python",
   "nbconvert_exporter": "python",
   "pygments_lexer": "ipython3",
   "version": "3.10.13"
  },
  "papermill": {
   "default_parameters": {},
   "duration": 83.983971,
   "end_time": "2024-03-26T13:54:33.350258",
   "environment_variables": {},
   "exception": null,
   "input_path": "__notebook__.ipynb",
   "output_path": "__notebook__.ipynb",
   "parameters": {},
   "start_time": "2024-03-26T13:53:09.366287",
   "version": "2.5.0"
  }
 },
 "nbformat": 4,
 "nbformat_minor": 5
}
